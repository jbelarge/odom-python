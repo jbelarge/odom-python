{
 "cells": [
  {
   "cell_type": "code",
   "execution_count": 2,
   "metadata": {},
   "outputs": [],
   "source": [
    "import torch\n",
    "import numpy as np\n",
    "\n",
    "class OxfordDataset(torch.utils.data.Dataset):\n",
    "    def __init__(self,\n",
    "                 truthfile='./data/trolley/data1/syn/vi1.csv',\n",
    "                 datafile='./data/trolley/data1/syn/imu1.csv',\n",
    "                 window_samples=200,\n",
    "                 overlap_samples=0):\n",
    "        self.sensor = np.loadtxt(datafile,delimiter=',').astype(np.float32)\n",
    "        self.truth = np.loadtxt(truthfile,delimiter=',').astype(np.float32)\n",
    "        self.len = self.sensor.shape[0] // (window_samples-overlap_samples)\n",
    "        self.window_samples = window_samples\n",
    "        self.overlap_samples = overlap_samples\n",
    "    def __getitem__(self, index):\n",
    "        ws = self.window_samples\n",
    "        pos = index * (ws-self.overlap_samples)\n",
    "        \n",
    "        # Sensor Data\n",
    "        time = self.sensor[pos:(pos+ws),0]\n",
    "        attitude_rad = self.sensor[pos:(pos+ws),1:4]\n",
    "        rotation_rate_rad_per_sec = self.sensor[pos:(pos+ws),4:7]\n",
    "        gravity = self.sensor[pos:(pos+ws),7:10]\n",
    "        acc = self.sensor[pos:(pos+ws),10:13]\n",
    "        mag_field_microteslas = self.sensor[pos:(pos+ws),13:16]\n",
    "        \n",
    "        # True Data\n",
    "        time_truth = self.truth[pos:(pos+ws),0] \n",
    "        translation = self.truth[pos:(pos+ws),2:5]\n",
    "        rotation = self.truth[pos:(pos+ws),5:10]\n",
    "        \n",
    "        return time, attitude_rad, rotation_rate_rad_per_sec, gravity, acc, mag_field_microteslas, time_truth, translation, rotation\n",
    "\n",
    "    def __len__(self):\n",
    "        return self.len"
   ]
  },
  {
   "cell_type": "markdown",
   "metadata": {},
   "source": [
    "Simple Example that uses attitude and acceleration to estimate delta translation\n"
   ]
  },
  {
   "cell_type": "code",
   "execution_count": null,
   "metadata": {},
   "outputs": [
    {
     "name": "stdout",
     "output_type": "stream",
     "text": [
      "Epoch: 10/100............. Loss: 10.6805\n",
      "Epoch: 20/100............. Loss: 0.1589\n",
      "Epoch: 30/100............. Loss: 1.5785\n",
      "Epoch: 40/100............. Loss: 0.7210\n",
      "Epoch: 50/100............. Loss: 20.4062\n",
      "Epoch: 60/100............. Loss: 7.9765\n",
      "Epoch: 70/100............. Loss: 27.4229\n",
      "Epoch: 80/100............. Loss: 5.4286\n"
     ]
    }
   ],
   "source": [
    "\n",
    "import torch\n",
    "import torch.nn as nn\n",
    "import torch.nn.functional as F\n",
    "import torch.optim as optim\n",
    "from torch.utils.data import DataLoader\n",
    "\n",
    "is_cuda = torch.cuda.is_available()\n",
    "if is_cuda:\n",
    "    device = torch.device(\"cuda\")\n",
    "else:\n",
    "    device = torch.device(\"cpu\")\n",
    "\n",
    "z = OxfordDataset()\n",
    "loader = DataLoader(z,batch_size=16,pin_memory=True)\n",
    "\n",
    "\n",
    "class Model(nn.Module):\n",
    "    def __init__(self, input_size, output_size, hidden_dim, n_layers):\n",
    "        super(Model, self).__init__()\n",
    "        self.hidden_dim = hidden_dim\n",
    "        self.n_layers = n_layers\n",
    "        self.rnn = nn.RNN(input_size, hidden_dim, n_layers, batch_first=True)   \n",
    "        self.fc = nn.Linear(hidden_dim, output_size)\n",
    "    \n",
    "    def forward(self, x):\n",
    "        batch_size = x.size(0)\n",
    "        hidden = self.init_hidden(batch_size)\n",
    "        out, hidden = self.rnn(x, hidden)\n",
    "        out = out.contiguous().view(-1, self.hidden_dim)\n",
    "        out = self.fc(out)\n",
    "\n",
    "        return out, hidden\n",
    "    \n",
    "    def init_hidden(self, batch_size):\n",
    "        hidden = torch.zeros(self.n_layers, batch_size, self.hidden_dim).to(device)\n",
    "        return hidden\n",
    "\n",
    "model = Model(6,3,128,3)\n",
    "model.to(device)\n",
    "n_epochs = 100\n",
    "lr=0.01\n",
    "criterion = nn.MSELoss()\n",
    "optimizer = torch.optim.Adam(model.parameters(), lr=lr)\n",
    "\n",
    "for epoch in range(1, n_epochs + 1):\n",
    "    optimizer.zero_grad() \n",
    "    \n",
    "    for batch_ndx, sample in enumerate(loader):\n",
    "        data_in = torch.cat((sample[1],sample[4]),2).to(device) # concatenate inputs att and acc\n",
    "        data_in.permute(1,0,2)\n",
    "        trans = sample[7].to(device)\n",
    "        delta_trans =torch.cat((torch.zeros(trans.shape[0],1,3,dtype=torch.float32).to(device),(trans[:,1:,:] - trans[:,:-1,:])),1) # get the diff \n",
    "        output, hidden = model(data_in)\n",
    "        loss = criterion(output, delta_trans.view(-1,3))\n",
    "        loss.backward() # Does backpropagation and calculates gradients\n",
    "        optimizer.step() # Updates the weights accordingly\n",
    "    \n",
    "    if epoch%10 == 0:\n",
    "        print('Epoch: {}/{}.............'.format(epoch, n_epochs), end=' ')\n",
    "        print(\"Loss: {:.4f}\".format(loss.item()))\n",
    "\n",
    "\n",
    "    "
   ]
  },
  {
   "cell_type": "code",
   "execution_count": null,
   "metadata": {},
   "outputs": [],
   "source": []
  }
 ],
 "metadata": {
  "kernelspec": {
   "display_name": "Python 3",
   "language": "python",
   "name": "python3"
  },
  "language_info": {
   "codemirror_mode": {
    "name": "ipython",
    "version": 3
   },
   "file_extension": ".py",
   "mimetype": "text/x-python",
   "name": "python",
   "nbconvert_exporter": "python",
   "pygments_lexer": "ipython3",
   "version": "3.7.4"
  }
 },
 "nbformat": 4,
 "nbformat_minor": 4
}
